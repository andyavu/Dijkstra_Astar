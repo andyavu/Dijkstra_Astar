{
  "nbformat": 4,
  "nbformat_minor": 0,
  "metadata": {
    "colab": {
      "name": "Assignment 1 - DijkstrasAndAstar",
      "provenance": [],
      "collapsed_sections": [],
      "include_colab_link": true
    },
    "kernelspec": {
      "display_name": "Python 3",
      "language": "python",
      "name": "python3"
    }
  },
  "cells": [
    {
      "cell_type": "markdown",
      "metadata": {
        "id": "view-in-github",
        "colab_type": "text"
      },
      "source": [
        "<a href=\"https://colab.research.google.com/github/andyavu/Dijkstra_Astar/blob/master/Assignment_1_DijkstrasAndAstar.ipynb\" target=\"_parent\"><img src=\"https://colab.research.google.com/assets/colab-badge.svg\" alt=\"Open In Colab\"/></a>"
      ]
    },
    {
      "cell_type": "code",
      "metadata": {
        "id": "MBCOsCFn5rG_"
      },
      "source": [
        "# Jennifer Chiang, jchiang@cpp.edu, 012639224\n",
        "# Andy Vu, aavu@cpp.edu, 012264447"
      ],
      "execution_count": null,
      "outputs": []
    },
    {
      "cell_type": "markdown",
      "metadata": {
        "id": "MsaqdVYhL6D5"
      },
      "source": [
        "In this assignment, we will be doing pathfinding using Dijkstra's and A* .  You are provided some starter code below, but the implementation will be up to you. Feel free to create your own sample maps, but you should ensure that your output looks like the final output below.\n",
        "\n",
        "##In this assignment you will:\n",
        "\n",
        "* Parse a data file to create a representation of a world-space\n",
        "* Implement functions that operate over this representation: telling your algorithms how to navigate this space, how to estimate costs over this space, and how to determine when a goal has been reached in this space\n",
        "* Implement Dijkstra's (an algorithm for finding the optimal path through a graph) search and A* search (a modification of Dijkstra's that utilizes heuristics to speed up the search, while still guaranteeing optimality)\n",
        "\n",
        "##The goal of this assignment is for you to understand:\n",
        "\n",
        "* How to read in a data file and produce a representation of the world such that you can generically solve a search problem\n",
        "* How to implement two basic search algorithms, Dijkstra's and A*\n",
        "* The differences between Dijkstra's and A*, and why A* is going to be faster than Dijkstra's"
      ]
    },
    {
      "cell_type": "markdown",
      "metadata": {
        "id": "erF0QNtDL6D6"
      },
      "source": [
        "First we will load the map into a grid called: terrain\n",
        "\n",
        "We first use wget to download the file"
      ]
    },
    {
      "cell_type": "code",
      "metadata": {
        "id": "lcEFb45yL6D8",
        "colab": {
          "base_uri": "https://localhost:8080/",
          "height": 224
        },
        "outputId": "bdd0a08c-adb2-4cc1-c443-bbf4e392b650"
      },
      "source": [
        "!wget http://modelai.gettysburg.edu/2019/minecraft/Pathfinding/terrain.txt"
      ],
      "execution_count": null,
      "outputs": [
        {
          "output_type": "stream",
          "text": [
            "--2020-10-11 06:15:20--  http://modelai.gettysburg.edu/2019/minecraft/Pathfinding/terrain.txt\n",
            "Resolving modelai.gettysburg.edu (modelai.gettysburg.edu)... 138.234.44.8\n",
            "Connecting to modelai.gettysburg.edu (modelai.gettysburg.edu)|138.234.44.8|:80... connected.\n",
            "HTTP request sent, awaiting response... 200 OK\n",
            "Length: 490 [text/plain]\n",
            "Saving to: ‘terrain.txt.2’\n",
            "\n",
            "\rterrain.txt.2         0%[                    ]       0  --.-KB/s               \rterrain.txt.2       100%[===================>]     490  --.-KB/s    in 0s      \n",
            "\n",
            "2020-10-11 06:15:21 (77.2 MB/s) - ‘terrain.txt.2’ saved [490/490]\n",
            "\n"
          ],
          "name": "stdout"
        }
      ]
    },
    {
      "cell_type": "markdown",
      "metadata": {
        "id": "DebXEpiNW0tk"
      },
      "source": [
        "Now we read from the file"
      ]
    },
    {
      "cell_type": "code",
      "metadata": {
        "id": "Yv2vMnhANYuj",
        "colab": {
          "base_uri": "https://localhost:8080/",
          "height": 224
        },
        "outputId": "d2416949-762c-4d88-b170-d843148e21d1"
      },
      "source": [
        "with open('terrain.txt','r') as terrain_file:\n",
        "  terrain = [list(line.rstrip()) for line in terrain_file]\n",
        "  print(terrain)\n",
        "  print('\\n'.join([''.join([c for c in row]) for row in terrain]))"
      ],
      "execution_count": null,
      "outputs": [
        {
          "output_type": "stream",
          "text": [
            "[['🌿', '🌿', '🌿', '🌿', '🌿', '🌼', '🌿', '🌼', '🌼', '🌿', '🌿', '🌿'], ['🌿', '🌿', '🌿', '🌿', '🌿', '🌼', '🌿', '🌼', '🌼', '🌿', '🌿', '🌿'], ['🌿', '🌿', '🌿', '🌿', '🌿', '🌿', '🌼', '🌿', '🌿', '🌿', '🌿', '🌿'], ['🌿', '🌿', '🌿', '🔥', '🔥', '🔥', '🔥', '🔥', '🌉', '🔥', '🔥', '🔥'], ['🔥', '🔥', '🔥', '🔥', '🔥', '🔥', '🔥', '🔥', '🌉', '🔥', '🔥', '🔥'], ['🔥', '🔥', '🔥', '🔥', '🔥', '🔥', '🔥', '🔥', '🌉', '🔥', '🔥', '🔥'], ['🔥', '🔥', '🔥', '🔥', '🔥', '🔥', '🔥', '🔥', '🌉', '🔥', '🔥', '🔥'], ['🔥', '🔥', '🔥', '🔥', '🔥', '🔥', '🔥', '🔥', '🌉', '🔥', '🔥', '🔥'], ['🔥', '🔥', '🔥', '🔥', '🔥', '🔥', '🔥', '🔥', '🌉', '🔥', '🔥', '🔥'], ['🌿', '🌿', '🌿', '🌲', '🌿', '🌿', '🌿', '🌿', '🌿', '🌼', '🌲', '🌲']]\n",
            "🌿🌿🌿🌿🌿🌼🌿🌼🌼🌿🌿🌿\n",
            "🌿🌿🌿🌿🌿🌼🌿🌼🌼🌿🌿🌿\n",
            "🌿🌿🌿🌿🌿🌿🌼🌿🌿🌿🌿🌿\n",
            "🌿🌿🌿🔥🔥🔥🔥🔥🌉🔥🔥🔥\n",
            "🔥🔥🔥🔥🔥🔥🔥🔥🌉🔥🔥🔥\n",
            "🔥🔥🔥🔥🔥🔥🔥🔥🌉🔥🔥🔥\n",
            "🔥🔥🔥🔥🔥🔥🔥🔥🌉🔥🔥🔥\n",
            "🔥🔥🔥🔥🔥🔥🔥🔥🌉🔥🔥🔥\n",
            "🔥🔥🔥🔥🔥🔥🔥🔥🌉🔥🔥🔥\n",
            "🌿🌿🌿🌲🌿🌿🌿🌿🌿🌼🌲🌲\n"
          ],
          "name": "stdout"
        }
      ]
    },
    {
      "cell_type": "markdown",
      "metadata": {
        "id": "y25uksqYL6ED"
      },
      "source": [
        "The indexing on terrain is terrain[y][x].\n",
        "\n",
        "Now we will implement a `find_neighbors` function.  find_neighbors should take in the curent position (a tuple of `(x,y)`) and the terrain.  It will output a list `[]` of all of the neighbors (tuples of `((x,y), cost)`) the costs are as follows:\n",
        "🌿 = 1\n",
        "🌼 = 2\n",
        "🌉 = 1\n",
        "🔥 = 5\n",
        "🌲 = 1\n",
        "\n",
        "i.e., we are fine walking on grass, bridges, and trees, but would prefer to avoid flowers, and really don't want to swim in lava.\n",
        "\n",
        "Note: this is assuming a neighborhood of:\n",
        "\n",
        "🌿🌿🌿\n",
        "\n",
        "🌿😀🌿\n",
        "\n",
        "🌿🌿🌿\n",
        "\n",
        "not\n",
        "\n",
        "  🌿 \n",
        "  \n",
        "🌿😀🌿\n",
        "\n",
        "  🌿 \n",
        "\n"
      ]
    },
    {
      "cell_type": "markdown",
      "metadata": {
        "id": "nIdCzvWuXU08"
      },
      "source": [
        "#Step 1 (20 points)\n",
        "* Implement the `find_neighbors` function\n",
        "* It takes in the `current_position` and the `terrain` and returns a list of all locations that are within 1 space \n",
        "* For each space it returns the associated cost to move into that space -- the penalty for a movement is incurred when going IN to the space (so if you are on a 🌿 going to a 🌼 then the cost is 2, if you are on a 🌼 going to a 🌿 then the cost is 1)\n",
        "\n",
        "* Implement the `is_goal` function that returns `True` if the occupied space is the goal, and `False` otherwise"
      ]
    },
    {
      "cell_type": "code",
      "metadata": {
        "id": "xF1i7QBNL6ED"
      },
      "source": [
        "from typing import NamedTuple, Dict, Tuple, Optional, Sequence, List\n",
        "\n",
        "def find_neighbors(current_position: Tuple[int,int],terrain :List[List[str]]) -> List[Tuple[Tuple[int,int],float]]:\n",
        "    neighbors = []\n",
        "    \n",
        "    # current_position = (x, y)\n",
        "    # terrain = [y][x] = str 12x10\n",
        "    # neighbors = [((x, y), cost)]\n",
        "\n",
        "    all_neighbors = [] # all possible neighbors\n",
        "    all_neighbors.append((current_position[0], current_position[1] - 1))\n",
        "    all_neighbors.append((current_position[0], current_position[1] + 1))\n",
        "    all_neighbors.append((current_position[0] - 1, current_position[1]))\n",
        "    all_neighbors.append((current_position[0] + 1, current_position[1]))\n",
        "    all_neighbors.append((current_position[0] - 1, current_position[1] - 1))\n",
        "    all_neighbors.append((current_position[0] + 1, current_position[1] - 1))\n",
        "    all_neighbors.append((current_position[0] - 1, current_position[1] + 1))\n",
        "    all_neighbors.append((current_position[0] + 1, current_position[1] + 1))\n",
        "\n",
        "    temp = [] # valid possible neighbors\n",
        "    for i in all_neighbors:\n",
        "        if (i[0] >= 12) or (i[1] >= 10): # 12x10 map\n",
        "            continue\n",
        "        elif (i[0] >= 0) and (i[1] >= 0):\n",
        "            temp.append(i)\n",
        "\n",
        "    # append valid neighbors with cost to list\n",
        "    # 🌿, 🌉, 🌲 = 1 \n",
        "    # 🌼 = 2 \n",
        "    # 🔥 = 5\n",
        "    for i in temp: \n",
        "        if terrain[i[1]][i[0]] == \"🌿\" or terrain[i[1]][i[0]] == \"🌉\" or terrain[i[1]][i[0]] == \"🌲\":\n",
        "            neighbors.append((i, 1.0))\n",
        "        elif terrain[i[1]][i[0]] == \"🌼\":\n",
        "            neighbors.append((i, 2.0))\n",
        "        elif terrain[i[1]][i[0]] == \"🔥\":\n",
        "            neighbors.append((i, 5.0))\n",
        "\n",
        "    return neighbors\n",
        "# call to test find_neighbors method\n",
        "# print(find_neighbors((0,0), terrain))\n",
        "    \n",
        "def is_goal(current_position: Tuple[int,int],terrain :List[List[str]]) -> bool:\n",
        "  goal = False\n",
        "  # terrain is [y][x]\n",
        "  x = current_position[0]\n",
        "  y = current_position[1]\n",
        "  position = terrain[y][x]\n",
        "  if(position == \"🌲\"):\n",
        "    goal = True\n",
        "  return goal\n",
        "# call to test is_goal method\n",
        "# print(is_goal((11,9), terrain))"
      ],
      "execution_count": null,
      "outputs": []
    },
    {
      "cell_type": "markdown",
      "metadata": {
        "id": "m_RXy4CkL6EF"
      },
      "source": [
        "\n",
        "Now, we want to find the heuristic cost for a given location on the terrain.  The heuristic cost you should use is:\n",
        "\n",
        "Find the Euclidean distance to the nearest 🌲 -- e.g. if the tree is at (x',y') and the given location is (x,y) the heuristic distance is $\\sqrt{(y-y')^2 + (x-x')^2}$\n",
        "# Step 2 (15 points)\n",
        "* Fill in the heuristic function\n",
        "* It should return the Euclidean distance to the CLOSEST tree, not just any tree"
      ]
    },
    {
      "cell_type": "code",
      "metadata": {
        "id": "TfjCkraTL6EG"
      },
      "source": [
        "import math\n",
        "\n",
        "def get_heuristic(position : Tuple[int,int],terrain:List[List[str]]) -> float:\n",
        "    min_distance = 0\n",
        "    \n",
        "    tree_locations = [] # all locations of trees\n",
        "    for y in range(len(terrain)):\n",
        "        for x in range(len(terrain[y])):\n",
        "            if terrain[y][x] == \"🌲\":\n",
        "                tree_locations.append((x, y))\n",
        "\n",
        "    for i in tree_locations:\n",
        "        temp = math.sqrt(((position[1] - i[1])**2) + ((position[0] - i[0])**2))\n",
        "        if (min_distance == 0) or (min_distance > temp):\n",
        "            min_distance = temp\n",
        "\n",
        "    # return 0\n",
        "    return min_distance\n",
        "            "
      ],
      "execution_count": null,
      "outputs": []
    },
    {
      "cell_type": "markdown",
      "metadata": {
        "id": "nA-Qn4w8L6EH"
      },
      "source": [
        "Finally, here is a helper class -- `PriorityQueue` -- and a helper function `pretty_print_path` that takes in the path (a list of position (x,y) tuples) and outputs a pretty string with emoji showing the path through the terrain\n",
        "\n",
        "To use the priority queue, you must first instantiate it, then use `put` to add things in and `get` to retrieve them"
      ]
    },
    {
      "cell_type": "code",
      "metadata": {
        "id": "AxANAE11L6EH"
      },
      "source": [
        "import heapq\n",
        "\n",
        "class PriorityQueue:\n",
        "    def __init__(self):\n",
        "        self.elements = []\n",
        "    \n",
        "    def empty(self):\n",
        "        return len(self.elements) == 0\n",
        "    \n",
        "    def put(self, item, priority : float):\n",
        "        heapq.heappush(self.elements, (priority, item))\n",
        "    \n",
        "    def get(self):\n",
        "        return heapq.heappop(self.elements)[1]\n",
        "    \n",
        "    # add on\n",
        "    def pop(self):\n",
        "      print(self.elements)\n",
        "      heapq.heappop(self.elements)\n",
        "      print(self.elements)\n",
        "    # added on\n",
        "    def contains(self, item):\n",
        "        for i in self.elements:\n",
        "            if item in i:\n",
        "                return True\n",
        "        return False\n",
        "    # added on\n",
        "    def size(self):\n",
        "        return len(self.elements)\n",
        "    # added on\n",
        "    def greater(self, item, priority):\n",
        "        for i in self.elements:\n",
        "            if item == i[1]:\n",
        "                if priority > i[0]:\n",
        "                    return True\n",
        "        return False\n",
        "    # added on\n",
        "    def remove(self, item):\n",
        "        for i in self.elements:\n",
        "            if i[1] == item:\n",
        "                self.elements.remove(i)\n",
        "                return\n",
        "    # added on\n",
        "    def printElements(self):\n",
        "        print(self.elements)\n",
        "    # added on\n",
        "    def returnPath(self):\n",
        "        path = []\n",
        "        for i in self.elements:\n",
        "            path.append(i[1])\n",
        "        return path\n",
        "    \n",
        "def pretty_print_path(path : List[Tuple[int,int]], terrain :List[List[str]]):\n",
        "        \n",
        "    emojis = ['😀','😁','😂','🤣','😃','😄','😅','😆','😉','😊','😋']\n",
        "    \n",
        "    path2len = {location:distance for distance,location in enumerate(path)}\n",
        "    output = []\n",
        "    for yy,row in enumerate(terrain):\n",
        "        row_str = ''\n",
        "        for xx, cur in enumerate(row):\n",
        "            if (xx,yy) in path2len:\n",
        "                row_str += emojis[path2len[(xx,yy)] % len(emojis)]\n",
        "            else:\n",
        "                row_str += cur\n",
        "        output.append(row_str)\n",
        "    return '\\n'.join(output)"
      ],
      "execution_count": null,
      "outputs": []
    },
    {
      "cell_type": "markdown",
      "metadata": {
        "id": "3g4DSeQ-L6EJ"
      },
      "source": [
        "#STEP 3 (Dijkstra's -- 25 points -- A* -- 40 points)\n",
        "* Implement both Dijkstra's and A*\n",
        "* The functions should use the early stopping criteria -- but make sure you stop at the right point\n",
        "* If no path can be found, then you should return an empty list\n",
        "* If a path is found, then you should return a list of tuples of ints \n",
        "* The returned path should be in the correct order (start to finish)\n",
        "\n",
        "You should verify a few things\n",
        "\n",
        "1) Your results for Dijkstra's and A* should be the same\n",
        "\n",
        "2) If you run A\\* with a heuristic of  lambda pos: 0, then your Dijkstra's implementation should visit things in the same order as your A\\*\n",
        "\n",
        "3) A* should likely visit fewer nodes than Dijkstra's"
      ]
    },
    {
      "cell_type": "code",
      "metadata": {
        "id": "kRPyL070L6EJ"
      },
      "source": [
        "def dijkstras(initial_position : Tuple[int,int], world : List[List[str]],get_neighbors , is_goal) -> List[Tuple[int,int]]:\n",
        "    result = []\n",
        "    # contains costs to reach position\n",
        "    costs = {\n",
        "        initial_position: 0\n",
        "    }\n",
        "    # contains how to get to the node\n",
        "    previous = {\n",
        "        initial_position: None\n",
        "    }\n",
        "    # instantiating the priority queue\n",
        "    # pq will store the possible visits\n",
        "    pq = PriorityQueue() \n",
        "\n",
        "    # initialize starting position\n",
        "    pq.put(initial_position,0)\n",
        "\n",
        "    while(not pq.empty()):\n",
        "      # to visit is next thing from priority queue\n",
        "      to_visit = pq.get()\n",
        "      if is_goal(to_visit, world):\n",
        "        result.append(to_visit)\n",
        "        node = to_visit\n",
        "        while (initial_position not in result):\n",
        "          result.append(previous.get(node))\n",
        "          node = previous.get(node)\n",
        "        result.reverse()\n",
        "        return result\n",
        "\n",
        "      for neighbor in get_neighbors(to_visit, world):\n",
        "        if neighbor[0] in costs and costs[neighbor[0]] <= potential_cost:\n",
        "          continue\n",
        "        potential_cost = costs[to_visit] + neighbor[1]\n",
        "        costs[neighbor[0]] = potential_cost\n",
        "        previous[neighbor[0]] = to_visit\n",
        "        pq.put(neighbor[0], potential_cost)\n",
        "\n",
        "    # return answer path\n",
        "    return []\n",
        "\n",
        "def a_star(initial_position,world,get_neighbors,is_goal,heuristic):\n",
        "    path = []\n",
        "    \n",
        "    pq = PriorityQueue()\n",
        "    previous = {\n",
        "        initial_position: None\n",
        "    }\n",
        "    costs = {\n",
        "        initial_position: 0\n",
        "    }\n",
        "    visited = set()\n",
        "    \n",
        "    pq.put(initial_position, 0)\n",
        "\n",
        "    while (not pq.empty()):\n",
        "      to_visit = pq.get()\n",
        "      if is_goal(to_visit, world):\n",
        "        path.append(to_visit)\n",
        "        node = to_visit\n",
        "        while (initial_position not in path):\n",
        "          path.append(previous.get(node))\n",
        "          node = previous.get(node)\n",
        "        path.reverse()\n",
        "        return path\n",
        "\n",
        "      visited.add(to_visit)\n",
        "      # print(to_visit)\n",
        "      for neighbor in get_neighbors(to_visit, world):\n",
        "        # print(neighbor)\n",
        "        potential_cost = costs[to_visit] + neighbor[1]\n",
        "        if neighbor[0] in costs and costs[neighbor[0]] <= potential_cost:\n",
        "          continue\n",
        "        costs[neighbor[0]] = potential_cost\n",
        "        previous[neighbor[0]] = to_visit\n",
        "        pq.put(neighbor[0], potential_cost + heuristic(neighbor[0], world))\n",
        "    return []\n",
        "    "
      ],
      "execution_count": null,
      "outputs": []
    },
    {
      "cell_type": "markdown",
      "metadata": {
        "id": "iPizi3UgL6EK"
      },
      "source": [
        "Your final output -- after pretty printing your paths should look like:\n",
        "    \n",
        "😀🌿🌿🌿🌿🌼🌿🌼🌼🌿🌿🌿\n",
        "\n",
        "🌿😁🌿🌿🌿🌼😅🌼🌼🌿🌿🌿\n",
        "\n",
        "🌿🌿😂🤣😃😄🌼😆🌿🌿🌿🌿\n",
        "\n",
        "🌿🌿🌿🌊🌊🌊🌊🌊😉🌊🌊🌊\n",
        "\n",
        "🌊🌊🌊🌊🌊🌊🌊🌊😊🌊🌊🌊\n",
        "\n",
        "🌊🌊🌊🌊🌊🌊🌊🌊😋🌊🌊🌊\n",
        "\n",
        "🌊🌊🌊🌊🌊🌊🌊🌊😀🌊🌊🌊\n",
        "\n",
        "🌊🌊🌊🌊🌊🌊🌊🌊😁🌊🌊🌊\n",
        "\n",
        "🌊🌊🌊🌊🌊🌊🌊🌊😂🌊🌊🌊\n",
        "\n",
        "🌿🌿🌿🌲🌿🌿🌿🌿🌿🤣😃🌲"
      ]
    },
    {
      "cell_type": "code",
      "metadata": {
        "id": "81z2Z4G2VqaE",
        "colab": {
          "base_uri": "https://localhost:8080/",
          "height": 391
        },
        "outputId": "ab62d218-3beb-4fb8-cb5a-bae65c9b51d3"
      },
      "source": [
        "dijkstra_path = dijkstras((0,0), terrain, find_neighbors, is_goal )\n",
        "print('Dijkstras')\n",
        "print(pretty_print_path(dijkstra_path, terrain))\n",
        "\n",
        "a_star_path = a_star((0,0), terrain, find_neighbors, is_goal,get_heuristic )\n",
        "print('A*')\n",
        "print(pretty_print_path(a_star_path, terrain))"
      ],
      "execution_count": null,
      "outputs": [
        {
          "output_type": "stream",
          "text": [
            "Dijkstras\n",
            "😀😁😂🤣🌿🌼🌿🌼🌼🌿🌿🌿\n",
            "🌿🌿🌿🌿😃🌼😅🌼🌼🌿🌿🌿\n",
            "🌿🌿🌿🌿🌿😄🌼😆🌿🌿🌿🌿\n",
            "🌿🌿🌿🔥🔥🔥🔥🔥😉🔥🔥🔥\n",
            "🔥🔥🔥🔥🔥🔥🔥🔥😊🔥🔥🔥\n",
            "🔥🔥🔥🔥🔥🔥🔥🔥😋🔥🔥🔥\n",
            "🔥🔥🔥🔥🔥🔥🔥🔥😀🔥🔥🔥\n",
            "🔥🔥🔥🔥🔥🔥🔥🔥😁🔥🔥🔥\n",
            "🔥🔥🔥🔥🔥🔥🔥🔥😂🔥🔥🔥\n",
            "🌿🌿🌿🌲🌿🌿🌿🌿🌿🤣😃🌲\n",
            "A*\n",
            "😀🌿🌿🌿🌿🌼🌿🌼🌼🌿🌿🌿\n",
            "🌿😁🌿🌿🌿🌼😅🌼🌼🌿🌿🌿\n",
            "🌿🌿😂🤣😃😄🌼😆🌿🌿🌿🌿\n",
            "🌿🌿🌿🔥🔥🔥🔥🔥😉🔥🔥🔥\n",
            "🔥🔥🔥🔥🔥🔥🔥🔥😊🔥🔥🔥\n",
            "🔥🔥🔥🔥🔥🔥🔥🔥😋🔥🔥🔥\n",
            "🔥🔥🔥🔥🔥🔥🔥🔥😀🔥🔥🔥\n",
            "🔥🔥🔥🔥🔥🔥🔥🔥😁🔥🔥🔥\n",
            "🔥🔥🔥🔥🔥🔥🔥🔥😂🔥🔥🔥\n",
            "🌿🌿🌿🌲🌿🌿🌿🌿🌿🤣😃🌲\n"
          ],
          "name": "stdout"
        }
      ]
    },
    {
      "cell_type": "markdown",
      "metadata": {
        "id": "i8ISQqAebZIV"
      },
      "source": [
        "#Bonus!\n",
        "\n",
        "* Make a new map that is either fun in some special way, or has a somewhat surprising best path (1 pt)\n",
        "* Modify the terrain to have a new terrain type with a different cost (2 pts)"
      ]
    },
    {
      "cell_type": "code",
      "metadata": {
        "id": "VO3sln0SbGW4",
        "colab": {
          "base_uri": "https://localhost:8080/",
          "height": 187
        },
        "outputId": "4ab40353-09bf-4bc2-e266-57c721e39078"
      },
      "source": [
        "# New terrain type '☠️' = 10\n",
        "# costs 10 to step on a burial ground\n",
        "map = [['🌿', '☠️', '☠️', '🌿', '☠️', '🌼', '🌿', '🌼', '🌼', '🌿', '☠️', '🌿'], ['🌿', '🌿', '🌿', '🌿', '☠️', '🌼', '🌿', '🌼', '🌼', '🌿', '🌿', '🌿'], ['☠️', '☠️', '☠️', '🌿', '☠️', '🌿', '🌼', '☠️', '🌿', '🌿', '🌿', '🌿'], ['🌿', '🌿', '🌿', '🔥', '🔥', '🔥', '🔥', '🔥', '🌉', '🔥', '🔥', '🔥'], ['☠️', '🔥', '🔥', '☠️', '🔥', '🔥', '🔥', '🔥', '🌉', '🔥', '☠️', '🔥'], ['☠️', '☠️', '☠️', '🔥', '🔥', '🔥', '🔥', '🔥', '🌉', '🔥', '☠️', '☠️'], ['☠️', '🔥', '🔥', '🔥', '🔥', '🔥', '🔥', '🔥', '🌉', '🔥', '☠️', '🔥'], ['🔥', '🔥', '🔥', '🔥', '🔥', '☠️', '☠️', '☠️', '🔥', '🌉', '🔥', '🔥'], ['🔥', '🔥', '🔥', '☠️', '🔥', '🔥', '🔥', '🔥', '🌉', '🔥', '🔥', '🔥'], ['🌿', '🌿', '🌿', '🌲', '🌿', '🌿', '🌿', '🌿', '🌿', '🌼', '🌲', '🌲']]\n",
        "print('\\n'.join([''.join([c for c in row]) for row in map]))"
      ],
      "execution_count": null,
      "outputs": [
        {
          "output_type": "stream",
          "text": [
            "🌿☠️☠️🌿☠️🌼🌿🌼🌼🌿☠️🌿\n",
            "🌿🌿🌿🌿☠️🌼🌿🌼🌼🌿🌿🌿\n",
            "☠️☠️☠️🌿☠️🌿🌼☠️🌿🌿🌿🌿\n",
            "🌿🌿🌿🔥🔥🔥🔥🔥🌉🔥🔥🔥\n",
            "☠️🔥🔥☠️🔥🔥🔥🔥🌉🔥☠️🔥\n",
            "☠️☠️☠️🔥🔥🔥🔥🔥🌉🔥☠️☠️\n",
            "☠️🔥🔥🔥🔥🔥🔥🔥🌉🔥☠️🔥\n",
            "🔥🔥🔥🔥🔥☠️☠️☠️🔥🌉🔥🔥\n",
            "🔥🔥🔥☠️🔥🔥🔥🔥🌉🔥🔥🔥\n",
            "🌿🌿🌿🌲🌿🌿🌿🌿🌿🌼🌲🌲\n"
          ],
          "name": "stdout"
        }
      ]
    }
  ]
}